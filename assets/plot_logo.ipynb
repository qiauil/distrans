{
 "cells": [
  {
   "cell_type": "code",
   "execution_count": null,
   "metadata": {},
   "outputs": [],
   "source": [
    "import torch\n",
    "import matplotlib.pyplot as plt\n",
    "from matplotlib.collections import LineCollection\n",
    "from matplotlib.colors import LinearSegmentedColormap\n",
    "import numpy as np\n",
    "\n",
    "def colored_line_between_pts(x, y, c, ax, **lc_kwargs):\n",
    "    points = np.array([x, y]).T.reshape(-1, 1, 2)\n",
    "    segments = np.concatenate([points[:-1], points[1:]], axis=1)\n",
    "    lc = LineCollection(segments, **lc_kwargs)\n",
    "    lc.set_array(c)\n",
    "    return ax.add_collection(lc)\n",
    "\n",
    "def gaussian_density(x, mu, sigma):\n",
    "    return torch.exp(-0.5 * ((x - mu) / sigma) ** 2) / (sigma * np.sqrt(2 * np.pi))\n",
    "\n",
    "#c_map=LinearSegmentedColormap.from_list(\"mycmap\",[\"w\",\"orange\"])\n",
    "c_map=\"rainbow\"\n",
    "width=60\n",
    "fig,ax=plt.subplots(figsize=(5,5))\n",
    "\n",
    "\n",
    "t=torch.linspace(0,1,width)\n",
    "x=torch.linspace(-3,3,100)\n",
    "t,x=torch.meshgrid(t,x)\n",
    "coef=1-t\n",
    "p=coef*gaussian_density(x,0,1)+(1-coef)*(0.5*\n",
    "                                         gaussian_density(x,1.5*t,0.5)+0.5*\n",
    "                                         gaussian_density(x,-1.5*t,0.5))\n",
    "for i in range(width):\n",
    "    p[i]=(p[i]-p[i].min())/(p[i].max()-p[i].min())\n",
    "ax.imshow(p.detach().numpy().T,origin=\"lower\",cmap=c_map)\n",
    "\n",
    "ax.axis(\"off\")\n",
    "x=torch.linspace(1,99,1000)\n",
    "y=gaussian_density(x,50,100/6)\n",
    "colored_line_between_pts(-y*1000,x,y,ax,cmap=c_map,linewidth=4)\n",
    "y=0.5*gaussian_density(x,75,100/12)+0.5*gaussian_density(x,25,100/12)\n",
    "colored_line_between_pts(y*1000+width-1,x,y,ax,cmap=c_map,linewidth=4)\n",
    "plt.plot()\n",
    "#plt.savefig(\"flow.svg\")"
   ]
  }
 ],
 "metadata": {
  "kernelspec": {
   "display_name": "deeplearning",
   "language": "python",
   "name": "python3"
  },
  "language_info": {
   "name": "python",
   "version": "3.10.14"
  }
 },
 "nbformat": 4,
 "nbformat_minor": 2
}
